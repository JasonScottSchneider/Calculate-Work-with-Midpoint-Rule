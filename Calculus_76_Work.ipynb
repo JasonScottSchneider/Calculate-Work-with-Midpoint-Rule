{
 "cells": [
  {
   "cell_type": "markdown",
   "id": "restricted-seeking",
   "metadata": {},
   "source": [
    "# Calculate-Work-with-Midpoint-Rule\n",
    "<p>This is how to calculate <em>work</em> with the Midpoint Rule from calculus using Python.\n",
    "The term <em>work</em> is used in everyday language to mean the total amount of effort required to perfomr a task. In physics it has a technical meaning that depends on the idea of a <em>force</em>. Intuitively, you can think of a force as describing a push or pull on an object--for example, a horizontal push of a book across a table or the downward pull of the earth's gravity on a ball. If <em>F</em> is measured in newtons and <em>d</em> in meters, then the unit for <em>W</em> is a newton-meter, which is called a joule (j).</p>"
   ]
  },
  {
   "cell_type": "markdown",
   "id": "documented-theory",
   "metadata": {},
   "source": [
    "## Section 7.6 Applications to Physics and Engineering, Number 4\n",
    "<p>The table shows values of a force function f(x), where x is measured in meters and f(x) in newtons. Use the Midpoint Rule to estimate the work done by the force in moving an object from x = 4 to x = 20.</p>\n",
    "<table>\n",
    "    <tr>\n",
    "        <td>x</td>\n",
    "        <td>4</td>\n",
    "        <td>6</td>\n",
    "        <td>8</td>\n",
    "        <td>10</td>\n",
    "        <td>12</td>\n",
    "        <td>14</td>\n",
    "        <td>16</td>\n",
    "        <td>18</td>\n",
    "        <td>20</td>\n",
    "    </tr>\n",
    "    <tr>\n",
    "        <td>f(x)</td>\n",
    "        <td>5</td>\n",
    "        <td>5.8</td>\n",
    "        <td>7.0</td>\n",
    "        <td>8.8</td>\n",
    "        <td>9.6</td>\n",
    "        <td>8.2</td>\n",
    "        <td>6.7</td>\n",
    "        <td>5.2</td>\n",
    "        <td>4.1</td>\n",
    "    </tr>\n",
    "</table>"
   ]
  },
  {
   "cell_type": "code",
   "execution_count": 38,
   "id": "through-respect",
   "metadata": {},
   "outputs": [],
   "source": [
    "#data\n",
    "x = [4,6,8,10,12,14,16,18,20]\n",
    "y = [5,5.8,7,8.8,9.6,8.2,6.7,5.2,4.1]"
   ]
  },
  {
   "cell_type": "code",
   "execution_count": 64,
   "id": "tutorial-original",
   "metadata": {},
   "outputs": [],
   "source": [
    "def midpoint(x,y):\n",
    "    intervals = []\n",
    "    for b in range(1,len(x),2): #use 2 steps because it is a midpoint\n",
    "        a = b - 1\n",
    "        intervals.append(x[b] - x[a])\n",
    "    n = len(intervals)\n",
    "    a = x[0] #set up the integral from a to b\n",
    "    b = x[-1]\n",
    "    delta = (b - a)/n #this is dx or our distance\n",
    "    summation = 0 #total sum of f(x)\n",
    "    for i in range(1,len(y),2):\n",
    "        summation += y[i]#this is our force\n",
    "    answer = delta*summation #dx*f(x)\n",
    "    return answer #work has been calculated         "
   ]
  },
  {
   "cell_type": "code",
   "execution_count": 66,
   "id": "portable-breeding",
   "metadata": {},
   "outputs": [
    {
     "name": "stdout",
     "output_type": "stream",
     "text": [
      "The work is calculated to be 112.0 newton-meters or joules.\n"
     ]
    }
   ],
   "source": [
    "print(f\"The work is calculated to be {midpoint(x,y)} newton-meters or joules.\")"
   ]
  },
  {
   "cell_type": "markdown",
   "id": "documented-chapel",
   "metadata": {},
   "source": [
    "<p>Now as it can be seen, we can calculate the force just as shown below.</p>"
   ]
  },
  {
   "cell_type": "markdown",
   "id": "phantom-society",
   "metadata": {},
   "source": [
    "![title](76_4.png)"
   ]
  },
  {
   "cell_type": "markdown",
   "id": "consistent-pricing",
   "metadata": {},
   "source": [
    "<p><center>References</center><br>Stewart, J. (2013). <em>Essential Calculus</em>. Belmont, CA: Brooks/Cole.</p>"
   ]
  },
  {
   "cell_type": "code",
   "execution_count": null,
   "id": "according-generation",
   "metadata": {},
   "outputs": [],
   "source": []
  }
 ],
 "metadata": {
  "kernelspec": {
   "display_name": "Python 3",
   "language": "python",
   "name": "python3"
  },
  "language_info": {
   "codemirror_mode": {
    "name": "ipython",
    "version": 3
   },
   "file_extension": ".py",
   "mimetype": "text/x-python",
   "name": "python",
   "nbconvert_exporter": "python",
   "pygments_lexer": "ipython3",
   "version": "3.9.2"
  }
 },
 "nbformat": 4,
 "nbformat_minor": 5
}
