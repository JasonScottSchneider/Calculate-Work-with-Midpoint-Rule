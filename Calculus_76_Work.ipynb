{
 "cells": [
  {
   "cell_type": "code",
   "execution_count": null,
   "id": "legislative-photograph",
   "metadata": {},
   "outputs": [],
   "source": []
  },
  {
   "cell_type": "markdown",
   "id": "threaded-scope",
   "metadata": {},
   "source": [
    "## Section 7.6 Applications to Physics and Engineering, Number 4\n",
    "<p>The table shows values of a force function f(x), where x is measured in meters and f(x) in newtons. Use the Midpoint Rule to estimate the work done by the force in moving an object from x = 4 to x = 20.</p>\n",
    "<table>\n",
    "    <tr>\n",
    "        <td>x</td>\n",
    "        <td>4</td>\n",
    "        <td>6</td>\n",
    "        <td>8</td>\n",
    "        <td>10</td>\n",
    "        <td>12</td>\n",
    "        <td>14</td>\n",
    "        <td>16</td>\n",
    "        <td>18</td>\n",
    "        <td>20</td>\n",
    "    </tr>\n",
    "    <tr>\n",
    "        <td>f(x)</td>\n",
    "        <td>5</td>\n",
    "        <td>5.8</td>\n",
    "        <td>7.0</td>\n",
    "        <td>8.8</td>\n",
    "        <td>9.6</td>\n",
    "        <td>8.2</td>\n",
    "        <td>6.7</td>\n",
    "        <td>5.2</td>\n",
    "        <td>4.1</td>\n",
    "    </tr>\n",
    "</table>"
   ]
  },
  {
   "cell_type": "code",
   "execution_count": 38,
   "id": "younger-abortion",
   "metadata": {},
   "outputs": [],
   "source": [
    "#data\n",
    "x = [4,6,8,10,12,14,16,18,20]\n",
    "y = [5,5.8,7,8.8,9.6,8.2,6.7,5.2,4.1]"
   ]
  },
  {
   "cell_type": "code",
   "execution_count": 64,
   "id": "permanent-terry",
   "metadata": {},
   "outputs": [],
   "source": [
    "def midpoint(x,y):\n",
    "    intervals = []\n",
    "    for b in range(1,len(x),2): #use 2 steps because it is a midpoint\n",
    "        a = b - 1\n",
    "        intervals.append(x[b] - x[a])\n",
    "    n = len(intervals)\n",
    "    a = x[0] #set up the integral from a to b\n",
    "    b = x[-1]\n",
    "    delta = (b - a)/n #this is dx or our distance\n",
    "    summation = 0 #total sum of f(x)\n",
    "    for i in range(1,len(y),2):\n",
    "        summation += y[i]#this is our force\n",
    "    answer = delta*summation #dx*f(x)\n",
    "    return answer #work has been calculated         "
   ]
  },
  {
   "cell_type": "code",
   "execution_count": 65,
   "id": "described-absence",
   "metadata": {},
   "outputs": [
    {
     "name": "stdout",
     "output_type": "stream",
     "text": [
      "The work is calculated to be 112.0 meter-newtons or joules.\n"
     ]
    }
   ],
   "source": [
    "print(f\"The work is calculated to be {midpoint(x,y)} meter-newtons or joules.\")"
   ]
  },
  {
   "cell_type": "markdown",
   "id": "efficient-senate",
   "metadata": {},
   "source": [
    "<p>Now as it can be seen, we can calculate the force just as shown below.</p>"
   ]
  },
  {
   "cell_type": "markdown",
   "id": "illegal-paintball",
   "metadata": {},
   "source": [
    "![title](76_4.png)"
   ]
  },
  {
   "cell_type": "markdown",
   "id": "hydraulic-reflection",
   "metadata": {},
   "source": [
    "<p><center>References</center><br><cite>Stewart, J. (2013). Essential calculus. Belmont, CA: Brooks/Cole.</cite></p>"
   ]
  },
  {
   "cell_type": "code",
   "execution_count": null,
   "id": "incorporate-shark",
   "metadata": {},
   "outputs": [],
   "source": []
  }
 ],
 "metadata": {
  "kernelspec": {
   "display_name": "Python 3",
   "language": "python",
   "name": "python3"
  },
  "language_info": {
   "codemirror_mode": {
    "name": "ipython",
    "version": 3
   },
   "file_extension": ".py",
   "mimetype": "text/x-python",
   "name": "python",
   "nbconvert_exporter": "python",
   "pygments_lexer": "ipython3",
   "version": "3.9.2"
  }
 },
 "nbformat": 4,
 "nbformat_minor": 5
}
